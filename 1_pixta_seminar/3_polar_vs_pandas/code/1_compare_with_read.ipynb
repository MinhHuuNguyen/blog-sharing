{
 "cells": [
  {
   "cell_type": "code",
   "execution_count": 1,
   "id": "a50329a7",
   "metadata": {},
   "outputs": [],
   "source": [
    "import polars as pl\n",
    "import pandas as pd\n",
    "import pyspark as ps"
   ]
  },
  {
   "cell_type": "code",
   "execution_count": 2,
   "id": "2cbc15dd",
   "metadata": {},
   "outputs": [],
   "source": [
    "CSV_40M_PATH = 'data/Parking_Violations_40M.csv' # 9.65 GB\n",
    "CSV_20M_PATH = 'data/Parking_Violations_20M.csv' # 4.89 GB\n",
    "CSV_9M_PATH = 'data/Parking_Violations_9M.csv' # 1.95 GB\n",
    "CSV_4M_PATH = 'data/Parking_Violations_4M.csv' # 855 MB\n",
    "CSV_2M_PATH = 'data/Parking_Violations_2M.csv' # 428 MB\n",
    "CSV_1M_PATH = 'data/Parking_Violations_1M.csv' # 214 MB\n",
    "CSV_500K_PATH = 'data/Parking_Violations_500K.csv' # 107 MB"
   ]
  },
  {
   "cell_type": "code",
   "execution_count": 3,
   "id": "138b6f5c",
   "metadata": {},
   "outputs": [],
   "source": [
    "CSV_PATH = CSV_500K_PATH\n",
    "OUT_JSON_NAME = 'CSV_500K_PATH'"
   ]
  },
  {
   "cell_type": "code",
   "execution_count": 4,
   "id": "3d7b6781",
   "metadata": {},
   "outputs": [],
   "source": [
    "comparison_results_dict = {\n",
    "    'read_csv': {},\n",
    "    'filter_one_condition': {},\n",
    "    'filter_multiple_conditions': {},\n",
    "    'create_new_column': {},\n",
    "    'group_by': {}\n",
    "}"
   ]
  },
  {
   "cell_type": "markdown",
   "id": "4262a230",
   "metadata": {},
   "source": [
    "# Let's compare"
   ]
  },
  {
   "cell_type": "markdown",
   "id": "f1eb7eec",
   "metadata": {},
   "source": [
    "## 1. Read CSV"
   ]
  },
  {
   "cell_type": "markdown",
   "id": "eeb22bdc",
   "metadata": {},
   "source": [
    "### 1.1. Polars"
   ]
  },
  {
   "cell_type": "code",
   "execution_count": 5,
   "id": "03764d4a",
   "metadata": {},
   "outputs": [
    {
     "name": "stdout",
     "output_type": "stream",
     "text": [
      "113 ms ± 2.88 ms per loop (mean ± std. dev. of 7 runs, 1 loop each)\n"
     ]
    },
    {
     "data": {
      "text/plain": [
       "<TimeitResult : 113 ms ± 2.88 ms per loop (mean ± std. dev. of 7 runs, 1 loop each)>"
      ]
     },
     "execution_count": 5,
     "metadata": {},
     "output_type": "execute_result"
    }
   ],
   "source": [
    "%%timeit -o\n",
    "polars_df = pl.scan_csv(CSV_PATH, ignore_errors=True)\n",
    "polars_df.collect()"
   ]
  },
  {
   "cell_type": "code",
   "execution_count": 6,
   "id": "4596dc00",
   "metadata": {},
   "outputs": [],
   "source": [
    "comparison_results_dict['read_csv']['polars'] = _.best"
   ]
  },
  {
   "cell_type": "markdown",
   "id": "ab62d3dd",
   "metadata": {},
   "source": [
    "### 1.2. Pandas"
   ]
  },
  {
   "cell_type": "code",
   "execution_count": 7,
   "id": "692a9d58",
   "metadata": {},
   "outputs": [
    {
     "name": "stdout",
     "output_type": "stream",
     "text": [
      "783 ms ± 30.4 ms per loop (mean ± std. dev. of 7 runs, 1 loop each)\n"
     ]
    },
    {
     "data": {
      "text/plain": [
       "<TimeitResult : 783 ms ± 30.4 ms per loop (mean ± std. dev. of 7 runs, 1 loop each)>"
      ]
     },
     "execution_count": 7,
     "metadata": {},
     "output_type": "execute_result"
    }
   ],
   "source": [
    "%%timeit -o\n",
    "pandas_df = pd.read_csv(CSV_PATH, on_bad_lines='skip')"
   ]
  },
  {
   "cell_type": "code",
   "execution_count": 8,
   "id": "d00c4336",
   "metadata": {},
   "outputs": [],
   "source": [
    "comparison_results_dict['read_csv']['pandas'] = _.best"
   ]
  },
  {
   "cell_type": "markdown",
   "id": "603fb63a",
   "metadata": {},
   "source": [
    "## 2. Filter rows based on one condition"
   ]
  },
  {
   "cell_type": "markdown",
   "id": "6aa1715b",
   "metadata": {},
   "source": [
    "### 2.1. Polars"
   ]
  },
  {
   "cell_type": "code",
   "execution_count": 9,
   "id": "aacbbeae",
   "metadata": {},
   "outputs": [
    {
     "name": "stdout",
     "output_type": "stream",
     "text": [
      "122 ms ± 1.86 ms per loop (mean ± std. dev. of 7 runs, 10 loops each)\n"
     ]
    },
    {
     "data": {
      "text/plain": [
       "<TimeitResult : 122 ms ± 1.86 ms per loop (mean ± std. dev. of 7 runs, 10 loops each)>"
      ]
     },
     "execution_count": 9,
     "metadata": {},
     "output_type": "execute_result"
    }
   ],
   "source": [
    "%%timeit -o\n",
    "polars_df = pl.scan_csv(CSV_PATH, ignore_errors=True)\n",
    "result_polars_df = polars_df.filter(pl.col(['Registration State']) == \"NY\")\n",
    "result_polars_df.collect()"
   ]
  },
  {
   "cell_type": "code",
   "execution_count": 10,
   "id": "bcccd99d",
   "metadata": {},
   "outputs": [],
   "source": [
    "comparison_results_dict['filter_one_condition']['polars'] = _.best"
   ]
  },
  {
   "cell_type": "markdown",
   "id": "8a069bd5",
   "metadata": {},
   "source": [
    "### 2.2. Pandas"
   ]
  },
  {
   "cell_type": "code",
   "execution_count": 11,
   "id": "60efd75d",
   "metadata": {
    "scrolled": true
   },
   "outputs": [
    {
     "name": "stdout",
     "output_type": "stream",
     "text": [
      "849 ms ± 53.6 ms per loop (mean ± std. dev. of 7 runs, 1 loop each)\n"
     ]
    },
    {
     "data": {
      "text/plain": [
       "<TimeitResult : 849 ms ± 53.6 ms per loop (mean ± std. dev. of 7 runs, 1 loop each)>"
      ]
     },
     "execution_count": 11,
     "metadata": {},
     "output_type": "execute_result"
    }
   ],
   "source": [
    "%%timeit -o\n",
    "pandas_df = pd.read_csv(CSV_PATH, on_bad_lines='skip')\n",
    "results_pandas_df = pandas_df.loc[pandas_df['Registration State'] == 'NY']"
   ]
  },
  {
   "cell_type": "code",
   "execution_count": 12,
   "id": "4d3fdc5a",
   "metadata": {},
   "outputs": [],
   "source": [
    "comparison_results_dict['filter_one_condition']['pandas'] = _.best"
   ]
  },
  {
   "cell_type": "markdown",
   "id": "9dd3cf38",
   "metadata": {},
   "source": [
    "## 3. Filter rows based on multiple conditions"
   ]
  },
  {
   "cell_type": "markdown",
   "id": "de8a016a",
   "metadata": {},
   "source": [
    "### 3.1. Polars"
   ]
  },
  {
   "cell_type": "code",
   "execution_count": 13,
   "id": "7d9ea32b",
   "metadata": {},
   "outputs": [
    {
     "name": "stdout",
     "output_type": "stream",
     "text": [
      "123 ms ± 8.75 ms per loop (mean ± std. dev. of 7 runs, 10 loops each)\n"
     ]
    },
    {
     "data": {
      "text/plain": [
       "<TimeitResult : 123 ms ± 8.75 ms per loop (mean ± std. dev. of 7 runs, 10 loops each)>"
      ]
     },
     "execution_count": 13,
     "metadata": {},
     "output_type": "execute_result"
    }
   ],
   "source": [
    "%%timeit -o\n",
    "polars_df = pl.scan_csv(CSV_PATH, ignore_errors=True)\n",
    "result_polars_df = polars_df.filter(\n",
    "    (pl.col('Registration State') == 'NY') & \\\n",
    "    (pl.col('Summons Number') <= 1335096139) & \\\n",
    "    (pl.col('Summons Number') > 1335089433)\n",
    ")\n",
    "result_polars_df.collect()"
   ]
  },
  {
   "cell_type": "code",
   "execution_count": 14,
   "id": "e9db92df",
   "metadata": {},
   "outputs": [],
   "source": [
    "comparison_results_dict['filter_multiple_conditions']['polars'] = _.best"
   ]
  },
  {
   "cell_type": "markdown",
   "id": "fd7374f7",
   "metadata": {},
   "source": [
    "### 3.2. Pandas"
   ]
  },
  {
   "cell_type": "code",
   "execution_count": 15,
   "id": "bcd996d5",
   "metadata": {},
   "outputs": [
    {
     "name": "stdout",
     "output_type": "stream",
     "text": [
      "804 ms ± 9.69 ms per loop (mean ± std. dev. of 7 runs, 1 loop each)\n"
     ]
    },
    {
     "data": {
      "text/plain": [
       "<TimeitResult : 804 ms ± 9.69 ms per loop (mean ± std. dev. of 7 runs, 1 loop each)>"
      ]
     },
     "execution_count": 15,
     "metadata": {},
     "output_type": "execute_result"
    }
   ],
   "source": [
    "%%timeit -o\n",
    "pandas_df = pd.read_csv(CSV_PATH, on_bad_lines='skip')\n",
    "results_pandas_df = pandas_df.loc[\n",
    "    (pandas_df['Registration State'] == 'NY') & \\\n",
    "    (pandas_df['Summons Number'] <= 1335096139) & \\\n",
    "    (pandas_df['Summons Number'] > 1335089433)\n",
    "]"
   ]
  },
  {
   "cell_type": "code",
   "execution_count": 16,
   "id": "af17ced3",
   "metadata": {},
   "outputs": [],
   "source": [
    "comparison_results_dict['filter_multiple_conditions']['pandas'] = _.best"
   ]
  },
  {
   "cell_type": "markdown",
   "id": "27d5376c",
   "metadata": {},
   "source": [
    "## 4. Create new column based on another"
   ]
  },
  {
   "cell_type": "markdown",
   "id": "1d8452e1",
   "metadata": {},
   "source": [
    "### 4.1. Polars"
   ]
  },
  {
   "cell_type": "code",
   "execution_count": 17,
   "id": "a863ddb5",
   "metadata": {},
   "outputs": [
    {
     "name": "stdout",
     "output_type": "stream",
     "text": [
      "116 ms ± 2.61 ms per loop (mean ± std. dev. of 7 runs, 10 loops each)\n"
     ]
    },
    {
     "data": {
      "text/plain": [
       "<TimeitResult : 116 ms ± 2.61 ms per loop (mean ± std. dev. of 7 runs, 10 loops each)>"
      ]
     },
     "execution_count": 17,
     "metadata": {},
     "output_type": "execute_result"
    }
   ],
   "source": [
    "%%timeit -o\n",
    "polars_df = pl.scan_csv(CSV_PATH, ignore_errors=True)\n",
    "result_polars_df = polars_df.with_columns([\n",
    "    (pl.col(\"Violation Code\") + 10_000).alias('Clean Violation Code')\n",
    "])\n",
    "result_polars_df.collect()"
   ]
  },
  {
   "cell_type": "code",
   "execution_count": 18,
   "id": "9dcc5a47",
   "metadata": {},
   "outputs": [],
   "source": [
    "comparison_results_dict['create_new_column']['polars'] = _.best"
   ]
  },
  {
   "cell_type": "markdown",
   "id": "4f5bfc12",
   "metadata": {},
   "source": [
    "### 4.2. Pandas"
   ]
  },
  {
   "cell_type": "code",
   "execution_count": 19,
   "id": "1553f98b",
   "metadata": {},
   "outputs": [
    {
     "name": "stdout",
     "output_type": "stream",
     "text": [
      "900 ms ± 79.3 ms per loop (mean ± std. dev. of 7 runs, 1 loop each)\n"
     ]
    },
    {
     "data": {
      "text/plain": [
       "<TimeitResult : 900 ms ± 79.3 ms per loop (mean ± std. dev. of 7 runs, 1 loop each)>"
      ]
     },
     "execution_count": 19,
     "metadata": {},
     "output_type": "execute_result"
    }
   ],
   "source": [
    "%%timeit -o\n",
    "pandas_df = pd.read_csv(CSV_PATH, on_bad_lines='skip')\n",
    "pandas_df['Clean Violation Code'] = pandas_df['Violation Code'].apply(lambda x: x + 10_000)"
   ]
  },
  {
   "cell_type": "code",
   "execution_count": 20,
   "id": "31e47c8e",
   "metadata": {},
   "outputs": [],
   "source": [
    "comparison_results_dict['create_new_column']['pandas'] = _.best"
   ]
  },
  {
   "cell_type": "markdown",
   "id": "6fad2232",
   "metadata": {},
   "source": [
    "## 5. GroupBy"
   ]
  },
  {
   "cell_type": "markdown",
   "id": "bfd244dc",
   "metadata": {},
   "source": [
    "### 5.1. Polars"
   ]
  },
  {
   "cell_type": "code",
   "execution_count": 21,
   "id": "79f7ec20",
   "metadata": {},
   "outputs": [
    {
     "name": "stderr",
     "output_type": "stream",
     "text": [
      "<magic-timeit>:2: DeprecationWarning: `count` was renamed; use `len` instead\n"
     ]
    },
    {
     "name": "stdout",
     "output_type": "stream",
     "text": [
      "28.4 ms ± 1.85 ms per loop (mean ± std. dev. of 7 runs, 10 loops each)\n"
     ]
    },
    {
     "data": {
      "text/plain": [
       "<TimeitResult : 28.4 ms ± 1.85 ms per loop (mean ± std. dev. of 7 runs, 10 loops each)>"
      ]
     },
     "execution_count": 21,
     "metadata": {},
     "output_type": "execute_result"
    }
   ],
   "source": [
    "%%timeit -o\n",
    "polars_df = pl.scan_csv(CSV_PATH, ignore_errors=True)\n",
    "result_polars_df = polars_df.group_by(by='Registration State').count()\n",
    "result_polars_df.collect()"
   ]
  },
  {
   "cell_type": "code",
   "execution_count": 22,
   "id": "837032f9",
   "metadata": {},
   "outputs": [],
   "source": [
    "comparison_results_dict['group_by']['polars'] = _.best"
   ]
  },
  {
   "cell_type": "markdown",
   "id": "c48f275d",
   "metadata": {},
   "source": [
    "### 5.2. Pandas"
   ]
  },
  {
   "cell_type": "code",
   "execution_count": 23,
   "id": "acca88fa",
   "metadata": {},
   "outputs": [
    {
     "name": "stdout",
     "output_type": "stream",
     "text": [
      "1.04 s ± 47.3 ms per loop (mean ± std. dev. of 7 runs, 1 loop each)\n"
     ]
    },
    {
     "data": {
      "text/plain": [
       "<TimeitResult : 1.04 s ± 47.3 ms per loop (mean ± std. dev. of 7 runs, 1 loop each)>"
      ]
     },
     "execution_count": 23,
     "metadata": {},
     "output_type": "execute_result"
    }
   ],
   "source": [
    "%%timeit -o\n",
    "pandas_df = pd.read_csv(CSV_PATH, on_bad_lines='skip')\n",
    "grouped_pandas_df = pandas_df.groupby(by='Registration State').count()"
   ]
  },
  {
   "cell_type": "code",
   "execution_count": 24,
   "id": "64786969",
   "metadata": {},
   "outputs": [],
   "source": [
    "comparison_results_dict['group_by']['pandas'] = _.best"
   ]
  },
  {
   "cell_type": "markdown",
   "id": "91860101",
   "metadata": {},
   "source": [
    "## 6. RESULTS"
   ]
  },
  {
   "cell_type": "code",
   "execution_count": 25,
   "id": "d29cd742",
   "metadata": {},
   "outputs": [
    {
     "name": "stdout",
     "output_type": "stream",
     "text": [
      "{\n",
      "    \"read_csv\": {\n",
      "        \"polars\": 0.10926566700800322,\n",
      "        \"pandas\": 0.7538160830008565\n",
      "    },\n",
      "    \"filter_one_condition\": {\n",
      "        \"polars\": 0.11966282920038793,\n",
      "        \"pandas\": 0.8192257090122439\n",
      "    },\n",
      "    \"filter_multiple_conditions\": {\n",
      "        \"polars\": 0.11417679590085754,\n",
      "        \"pandas\": 0.7933447500108741\n",
      "    },\n",
      "    \"create_new_column\": {\n",
      "        \"polars\": 0.11217769170034445,\n",
      "        \"pandas\": 0.8473366250109393\n",
      "    },\n",
      "    \"group_by\": {\n",
      "        \"polars\": 0.026752233399020043,\n",
      "        \"pandas\": 1.002640375008923\n",
      "    }\n",
      "}\n"
     ]
    }
   ],
   "source": [
    "import json\n",
    "print(json.dumps(comparison_results_dict, indent=4))"
   ]
  },
  {
   "cell_type": "code",
   "execution_count": 26,
   "id": "6b83559c",
   "metadata": {},
   "outputs": [],
   "source": [
    "with open(f'{OUT_JSON_NAME}_with_read.json', 'w') as file:\n",
    "    json.dump(comparison_results_dict, file, indent=4)"
   ]
  },
  {
   "cell_type": "code",
   "execution_count": null,
   "id": "4fb6f5b7",
   "metadata": {},
   "outputs": [],
   "source": []
  }
 ],
 "metadata": {
  "kernelspec": {
   "display_name": "3-polar-seminar",
   "language": "python",
   "name": "python3"
  },
  "language_info": {
   "codemirror_mode": {
    "name": "ipython",
    "version": 3
   },
   "file_extension": ".py",
   "mimetype": "text/x-python",
   "name": "python",
   "nbconvert_exporter": "python",
   "pygments_lexer": "ipython3",
   "version": "3.13.2"
  }
 },
 "nbformat": 4,
 "nbformat_minor": 5
}
