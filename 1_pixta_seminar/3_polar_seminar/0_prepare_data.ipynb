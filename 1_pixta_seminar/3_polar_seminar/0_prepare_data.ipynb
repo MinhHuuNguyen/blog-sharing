{
 "cells": [
  {
   "cell_type": "code",
   "execution_count": 1,
   "id": "a50329a7",
   "metadata": {},
   "outputs": [],
   "source": [
    "import pandas as pd"
   ]
  },
  {
   "cell_type": "code",
   "execution_count": null,
   "id": "8f327025",
   "metadata": {},
   "outputs": [],
   "source": [
    "df = pd.read_csv(\"data/Parking_Violations_Issued.csv\")"
   ]
  },
  {
   "cell_type": "code",
   "execution_count": 4,
   "id": "5afbd220",
   "metadata": {},
   "outputs": [],
   "source": [
    "CSV_40M_PATH = 'data/Parking_Violations_40M.csv' # 9.65 GB\n",
    "CSV_20M_PATH = 'data/Parking_Violations_20M.csv' # 4.89 GB\n",
    "CSV_9M_PATH = 'data/Parking_Violations_9M.csv' # 1.95 GB\n",
    "CSV_4M_PATH = 'data/Parking_Violations_4M.csv' # 855 MB\n",
    "CSV_2M_PATH = 'data/Parking_Violations_2M.csv' # 428 MB\n",
    "CSV_1M_PATH = 'data/Parking_Violations_1M.csv' # 214 MB\n",
    "CSV_500K_PATH = 'data/Parking_Violations_500K.csv' # 107 MB"
   ]
  },
  {
   "cell_type": "code",
   "execution_count": 5,
   "id": "9ad5e54b",
   "metadata": {},
   "outputs": [],
   "source": [
    "df_500K = pd.concat([df] * 500, ignore_index=True)\n",
    "df_500K.to_csv(CSV_500K_PATH, index=False)"
   ]
  },
  {
   "cell_type": "code",
   "execution_count": 6,
   "id": "edaaabd7",
   "metadata": {},
   "outputs": [],
   "source": [
    "\n",
    "df_1M = pd.concat([df] * 1000, ignore_index=True)\n",
    "df_1M.to_csv(CSV_1M_PATH, index=False)"
   ]
  },
  {
   "cell_type": "code",
   "execution_count": 7,
   "id": "8c45d2ed",
   "metadata": {},
   "outputs": [],
   "source": [
    "df_2M = pd.concat([df] * 2000, ignore_index=True)\n",
    "df_2M.to_csv(CSV_2M_PATH, index=False)"
   ]
  },
  {
   "cell_type": "code",
   "execution_count": 8,
   "id": "48c96dd0",
   "metadata": {},
   "outputs": [],
   "source": [
    "df_4M = pd.concat([df] * 4000, ignore_index=True)\n",
    "df_4M.to_csv(CSV_4M_PATH, index=False)"
   ]
  },
  {
   "cell_type": "code",
   "execution_count": 9,
   "id": "6a532fc5",
   "metadata": {},
   "outputs": [],
   "source": [
    "df_9M = pd.concat([df] * 9000, ignore_index=True)\n",
    "df_9M.to_csv(CSV_9M_PATH, index=False)"
   ]
  },
  {
   "cell_type": "code",
   "execution_count": 10,
   "id": "e5f16327",
   "metadata": {},
   "outputs": [],
   "source": [
    "df_20M = pd.concat([df] * 20000, ignore_index=True)\n",
    "df_20M.to_csv(CSV_20M_PATH, index=False)"
   ]
  },
  {
   "cell_type": "code",
   "execution_count": 11,
   "id": "601158ff",
   "metadata": {},
   "outputs": [],
   "source": [
    "df_40M = pd.concat([df] * 40000, ignore_index=True)\n",
    "df_40M.to_csv(CSV_40M_PATH, index=False)"
   ]
  },
  {
   "cell_type": "code",
   "execution_count": null,
   "id": "66be6bdd",
   "metadata": {},
   "outputs": [],
   "source": []
  }
 ],
 "metadata": {
  "kernelspec": {
   "display_name": "3-polar-seminar",
   "language": "python",
   "name": "python3"
  },
  "language_info": {
   "codemirror_mode": {
    "name": "ipython",
    "version": 3
   },
   "file_extension": ".py",
   "mimetype": "text/x-python",
   "name": "python",
   "nbconvert_exporter": "python",
   "pygments_lexer": "ipython3",
   "version": "3.13.2"
  }
 },
 "nbformat": 4,
 "nbformat_minor": 5
}
