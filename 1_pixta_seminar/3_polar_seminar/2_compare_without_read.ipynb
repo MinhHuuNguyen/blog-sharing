{
 "cells": [
  {
   "cell_type": "code",
   "execution_count": 1,
   "id": "a50329a7",
   "metadata": {},
   "outputs": [],
   "source": [
    "import polars as pl\n",
    "import pandas as pd\n",
    "import pyspark as ps"
   ]
  },
  {
   "cell_type": "code",
   "execution_count": 2,
   "id": "2cbc15dd",
   "metadata": {},
   "outputs": [],
   "source": [
    "CSV_40M_PATH = 'data/Parking_Violations_40M.csv' # 9.65 GB\n",
    "CSV_20M_PATH = 'data/Parking_Violations_20M.csv' # 4.89 GB\n",
    "CSV_9M_PATH = 'data/Parking_Violations_9M.csv' # 1.95 GB\n",
    "CSV_4M_PATH = 'data/Parking_Violations_4M.csv' # 855 MB\n",
    "CSV_2M_PATH = 'data/Parking_Violations_2M.csv' # 428 MB\n",
    "CSV_1M_PATH = 'data/Parking_Violations_1M.csv' # 214 MB\n",
    "CSV_500K_PATH = 'data/Parking_Violations_500K.csv' # 107 MB"
   ]
  },
  {
   "cell_type": "code",
   "execution_count": 3,
   "id": "9fa48c8a",
   "metadata": {},
   "outputs": [],
   "source": [
    "CSV_PATH = CSV_500K_PATH\n",
    "OUT_JSON_NAME = 'CSV_500K_PATH'"
   ]
  },
  {
   "cell_type": "code",
   "execution_count": 4,
   "id": "d6bb897d",
   "metadata": {},
   "outputs": [],
   "source": [
    "comparison_results_dict = {\n",
    "    'read_csv': {},\n",
    "    'filter_one_condition': {},\n",
    "    'filter_multiple_conditions': {},\n",
    "    'create_new_column': {},\n",
    "    'group_by': {}\n",
    "}"
   ]
  },
  {
   "cell_type": "markdown",
   "id": "4262a230",
   "metadata": {},
   "source": [
    "# Let's compare"
   ]
  },
  {
   "cell_type": "markdown",
   "id": "f1eb7eec",
   "metadata": {},
   "source": [
    "## 1. Read CSV"
   ]
  },
  {
   "cell_type": "markdown",
   "id": "1454ff09",
   "metadata": {},
   "source": [
    "### 1.1. Polars"
   ]
  },
  {
   "cell_type": "code",
   "execution_count": 5,
   "id": "03764d4a",
   "metadata": {},
   "outputs": [
    {
     "name": "stdout",
     "output_type": "stream",
     "text": [
      "113 ms ± 959 μs per loop (mean ± std. dev. of 7 runs, 10 loops each)\n"
     ]
    },
    {
     "data": {
      "text/plain": [
       "<TimeitResult : 113 ms ± 959 μs per loop (mean ± std. dev. of 7 runs, 10 loops each)>"
      ]
     },
     "execution_count": 5,
     "metadata": {},
     "output_type": "execute_result"
    }
   ],
   "source": [
    "%%timeit -o\n",
    "polars_df = pl.scan_csv(CSV_PATH, ignore_errors=True)\n",
    "polars_df.collect()"
   ]
  },
  {
   "cell_type": "code",
   "execution_count": 6,
   "id": "0587aa23",
   "metadata": {},
   "outputs": [],
   "source": [
    "comparison_results_dict['read_csv']['polars'] = _.best"
   ]
  },
  {
   "cell_type": "markdown",
   "id": "80274165",
   "metadata": {},
   "source": [
    "### 1.2. Pandas"
   ]
  },
  {
   "cell_type": "code",
   "execution_count": 7,
   "id": "340fb508",
   "metadata": {},
   "outputs": [
    {
     "name": "stdout",
     "output_type": "stream",
     "text": [
      "764 ms ± 11.9 ms per loop (mean ± std. dev. of 7 runs, 1 loop each)\n"
     ]
    },
    {
     "data": {
      "text/plain": [
       "<TimeitResult : 764 ms ± 11.9 ms per loop (mean ± std. dev. of 7 runs, 1 loop each)>"
      ]
     },
     "execution_count": 7,
     "metadata": {},
     "output_type": "execute_result"
    }
   ],
   "source": [
    "%%timeit -o\n",
    "pandas_df = pd.read_csv(CSV_PATH, on_bad_lines='skip')"
   ]
  },
  {
   "cell_type": "code",
   "execution_count": 8,
   "id": "bdb51040",
   "metadata": {},
   "outputs": [],
   "source": [
    "comparison_results_dict['read_csv']['pandas'] = _.best"
   ]
  },
  {
   "cell_type": "code",
   "execution_count": 9,
   "id": "3fcc1329",
   "metadata": {},
   "outputs": [],
   "source": [
    "polars_df = pl.scan_csv(CSV_PATH, ignore_errors=True)"
   ]
  },
  {
   "cell_type": "code",
   "execution_count": 10,
   "id": "87bb9ed3",
   "metadata": {},
   "outputs": [],
   "source": [
    "pandas_df = pd.read_csv(CSV_PATH, on_bad_lines='skip')"
   ]
  },
  {
   "cell_type": "markdown",
   "id": "603fb63a",
   "metadata": {},
   "source": [
    "## 2. Filter rows based on one condition"
   ]
  },
  {
   "cell_type": "markdown",
   "id": "cafcec30",
   "metadata": {},
   "source": [
    "### 2.1. Polars"
   ]
  },
  {
   "cell_type": "code",
   "execution_count": 11,
   "id": "aacbbeae",
   "metadata": {},
   "outputs": [
    {
     "name": "stdout",
     "output_type": "stream",
     "text": [
      "126 ms ± 7.18 ms per loop (mean ± std. dev. of 7 runs, 10 loops each)\n"
     ]
    },
    {
     "data": {
      "text/plain": [
       "<TimeitResult : 126 ms ± 7.18 ms per loop (mean ± std. dev. of 7 runs, 10 loops each)>"
      ]
     },
     "execution_count": 11,
     "metadata": {},
     "output_type": "execute_result"
    }
   ],
   "source": [
    "%%timeit -o\n",
    "result_polars_df = polars_df.filter(pl.col(['Registration State']) == \"NY\")\n",
    "result_polars_df.collect()"
   ]
  },
  {
   "cell_type": "code",
   "execution_count": 12,
   "id": "fda2dbf1",
   "metadata": {},
   "outputs": [],
   "source": [
    "comparison_results_dict['filter_one_condition']['polars'] = _.best"
   ]
  },
  {
   "cell_type": "markdown",
   "id": "21b2898c",
   "metadata": {},
   "source": [
    "### 2.2. Pandas"
   ]
  },
  {
   "cell_type": "code",
   "execution_count": 13,
   "id": "81a492e9",
   "metadata": {
    "scrolled": true
   },
   "outputs": [
    {
     "name": "stdout",
     "output_type": "stream",
     "text": [
      "56.7 ms ± 2.25 ms per loop (mean ± std. dev. of 7 runs, 10 loops each)\n"
     ]
    },
    {
     "data": {
      "text/plain": [
       "<TimeitResult : 56.7 ms ± 2.25 ms per loop (mean ± std. dev. of 7 runs, 10 loops each)>"
      ]
     },
     "execution_count": 13,
     "metadata": {},
     "output_type": "execute_result"
    }
   ],
   "source": [
    "%%timeit -o\n",
    "results_pandas_df = pandas_df.loc[pandas_df['Registration State'] == 'NY']"
   ]
  },
  {
   "cell_type": "code",
   "execution_count": 14,
   "id": "b25653a7",
   "metadata": {},
   "outputs": [],
   "source": [
    "comparison_results_dict['filter_one_condition']['pandas'] = _.best"
   ]
  },
  {
   "cell_type": "markdown",
   "id": "1263290b",
   "metadata": {},
   "source": [
    "## 3. Filter rows based on multiple conditions"
   ]
  },
  {
   "cell_type": "markdown",
   "id": "72628bfb",
   "metadata": {},
   "source": [
    "### 3.1. Polars"
   ]
  },
  {
   "cell_type": "code",
   "execution_count": 15,
   "id": "ffbc65b3",
   "metadata": {},
   "outputs": [
    {
     "name": "stdout",
     "output_type": "stream",
     "text": [
      "119 ms ± 5.46 ms per loop (mean ± std. dev. of 7 runs, 10 loops each)\n"
     ]
    },
    {
     "data": {
      "text/plain": [
       "<TimeitResult : 119 ms ± 5.46 ms per loop (mean ± std. dev. of 7 runs, 10 loops each)>"
      ]
     },
     "execution_count": 15,
     "metadata": {},
     "output_type": "execute_result"
    }
   ],
   "source": [
    "%%timeit -o\n",
    "result_polars_df = polars_df.filter(\n",
    "    (pl.col('Registration State') == 'NY') & \\\n",
    "    (pl.col('Summons Number') <= 1335096139) & \\\n",
    "    (pl.col('Summons Number') > 1335089433)\n",
    ")\n",
    "result_polars_df.collect()"
   ]
  },
  {
   "cell_type": "code",
   "execution_count": 16,
   "id": "9a8bf14f",
   "metadata": {},
   "outputs": [],
   "source": [
    "comparison_results_dict['filter_multiple_conditions']['polars'] = _.best"
   ]
  },
  {
   "cell_type": "markdown",
   "id": "780590ca",
   "metadata": {},
   "source": [
    "### 3.2. Pandas"
   ]
  },
  {
   "cell_type": "code",
   "execution_count": 17,
   "id": "ce7048e7",
   "metadata": {},
   "outputs": [
    {
     "name": "stdout",
     "output_type": "stream",
     "text": [
      "19.3 ms ± 940 μs per loop (mean ± std. dev. of 7 runs, 100 loops each)\n"
     ]
    },
    {
     "data": {
      "text/plain": [
       "<TimeitResult : 19.3 ms ± 940 μs per loop (mean ± std. dev. of 7 runs, 100 loops each)>"
      ]
     },
     "execution_count": 17,
     "metadata": {},
     "output_type": "execute_result"
    }
   ],
   "source": [
    "%%timeit -o\n",
    "results_pandas_df = pandas_df.loc[\n",
    "    (pandas_df['Registration State'] == 'NY') & \\\n",
    "    (pandas_df['Summons Number'] <= 1335096139) & \\\n",
    "    (pandas_df['Summons Number'] > 1335089433)\n",
    "]"
   ]
  },
  {
   "cell_type": "code",
   "execution_count": 18,
   "id": "950c0dbc",
   "metadata": {},
   "outputs": [],
   "source": [
    "comparison_results_dict['filter_multiple_conditions']['pandas'] = _.best"
   ]
  },
  {
   "cell_type": "markdown",
   "id": "27d5376c",
   "metadata": {},
   "source": [
    "## 4. Create new column based on another"
   ]
  },
  {
   "cell_type": "markdown",
   "id": "96ef4a16",
   "metadata": {},
   "source": [
    "### 4.1. Polars"
   ]
  },
  {
   "cell_type": "code",
   "execution_count": 19,
   "id": "a863ddb5",
   "metadata": {},
   "outputs": [
    {
     "name": "stdout",
     "output_type": "stream",
     "text": [
      "117 ms ± 3.34 ms per loop (mean ± std. dev. of 7 runs, 1 loop each)\n"
     ]
    },
    {
     "data": {
      "text/plain": [
       "<TimeitResult : 117 ms ± 3.34 ms per loop (mean ± std. dev. of 7 runs, 1 loop each)>"
      ]
     },
     "execution_count": 19,
     "metadata": {},
     "output_type": "execute_result"
    }
   ],
   "source": [
    "%%timeit -o\n",
    "result_polars_df = polars_df.with_columns([\n",
    "    (pl.col('Violation Code') + 10_000).alias('Clean Violation Code')\n",
    "])\n",
    "result_polars_df.collect()"
   ]
  },
  {
   "cell_type": "code",
   "execution_count": 20,
   "id": "c99a5c1d",
   "metadata": {},
   "outputs": [],
   "source": [
    "comparison_results_dict['create_new_column']['polars'] = _.best"
   ]
  },
  {
   "cell_type": "markdown",
   "id": "6a1ba7ec",
   "metadata": {},
   "source": [
    "### 4.2. Pandas"
   ]
  },
  {
   "cell_type": "code",
   "execution_count": 21,
   "id": "80e77e12",
   "metadata": {},
   "outputs": [
    {
     "name": "stdout",
     "output_type": "stream",
     "text": [
      "74 ms ± 560 μs per loop (mean ± std. dev. of 7 runs, 10 loops each)\n"
     ]
    },
    {
     "data": {
      "text/plain": [
       "<TimeitResult : 74 ms ± 560 μs per loop (mean ± std. dev. of 7 runs, 10 loops each)>"
      ]
     },
     "execution_count": 21,
     "metadata": {},
     "output_type": "execute_result"
    }
   ],
   "source": [
    "%%timeit -o\n",
    "pandas_df['Clean Violation Code'] = pandas_df['Violation Code'].apply(lambda x: x + 10_000)"
   ]
  },
  {
   "cell_type": "code",
   "execution_count": 22,
   "id": "74623cd1",
   "metadata": {},
   "outputs": [],
   "source": [
    "comparison_results_dict['create_new_column']['pandas'] = _.best"
   ]
  },
  {
   "cell_type": "markdown",
   "id": "6fad2232",
   "metadata": {},
   "source": [
    "## 5. GroupBy"
   ]
  },
  {
   "cell_type": "markdown",
   "id": "3a24f902",
   "metadata": {},
   "source": [
    "### 5.1. Polars"
   ]
  },
  {
   "cell_type": "code",
   "execution_count": 23,
   "id": "23a88052",
   "metadata": {},
   "outputs": [
    {
     "name": "stderr",
     "output_type": "stream",
     "text": [
      "<magic-timeit>:1: DeprecationWarning: `count` was renamed; use `len` instead\n"
     ]
    },
    {
     "name": "stdout",
     "output_type": "stream",
     "text": [
      "27.9 ms ± 917 μs per loop (mean ± std. dev. of 7 runs, 10 loops each)\n"
     ]
    },
    {
     "data": {
      "text/plain": [
       "<TimeitResult : 27.9 ms ± 917 μs per loop (mean ± std. dev. of 7 runs, 10 loops each)>"
      ]
     },
     "execution_count": 23,
     "metadata": {},
     "output_type": "execute_result"
    }
   ],
   "source": [
    "%%timeit -o\n",
    "result_polars_df = polars_df.group_by(by='Registration State').count()\n",
    "result_polars_df.collect()"
   ]
  },
  {
   "cell_type": "code",
   "execution_count": 24,
   "id": "256d1cb3",
   "metadata": {},
   "outputs": [],
   "source": [
    "comparison_results_dict['group_by']['polars'] = _.best"
   ]
  },
  {
   "cell_type": "markdown",
   "id": "e885c04d",
   "metadata": {},
   "source": [
    "### 5.2. Pandas"
   ]
  },
  {
   "cell_type": "code",
   "execution_count": 25,
   "id": "acca88fa",
   "metadata": {},
   "outputs": [
    {
     "name": "stdout",
     "output_type": "stream",
     "text": [
      "227 ms ± 12.3 ms per loop (mean ± std. dev. of 7 runs, 1 loop each)\n"
     ]
    },
    {
     "data": {
      "text/plain": [
       "<TimeitResult : 227 ms ± 12.3 ms per loop (mean ± std. dev. of 7 runs, 1 loop each)>"
      ]
     },
     "execution_count": 25,
     "metadata": {},
     "output_type": "execute_result"
    }
   ],
   "source": [
    "%%timeit -o\n",
    "grouped_pandas_df = pandas_df.groupby(by='Registration State').count()"
   ]
  },
  {
   "cell_type": "code",
   "execution_count": 26,
   "id": "a4da2932",
   "metadata": {},
   "outputs": [],
   "source": [
    "comparison_results_dict['group_by']['pandas'] = _.best"
   ]
  },
  {
   "cell_type": "markdown",
   "id": "ae02ec8d",
   "metadata": {},
   "source": [
    "## 6. RESULTS"
   ]
  },
  {
   "cell_type": "code",
   "execution_count": 27,
   "id": "5d64b2d6",
   "metadata": {},
   "outputs": [
    {
     "name": "stdout",
     "output_type": "stream",
     "text": [
      "{\n",
      "    \"read_csv\": {\n",
      "        \"polars\": 0.11123097079980653,\n",
      "        \"pandas\": 0.7458537500060629\n",
      "    },\n",
      "    \"filter_one_condition\": {\n",
      "        \"polars\": 0.11893107080104529,\n",
      "        \"pandas\": 0.05369687500060536\n",
      "    },\n",
      "    \"filter_multiple_conditions\": {\n",
      "        \"polars\": 0.11459862080082531,\n",
      "        \"pandas\": 0.01839585541994893\n",
      "    },\n",
      "    \"create_new_column\": {\n",
      "        \"polars\": 0.11311812499479856,\n",
      "        \"pandas\": 0.07323276669922052\n",
      "    },\n",
      "    \"group_by\": {\n",
      "        \"polars\": 0.02663726669998141,\n",
      "        \"pandas\": 0.21668441699875984\n",
      "    }\n",
      "}\n"
     ]
    }
   ],
   "source": [
    "import json\n",
    "print(json.dumps(comparison_results_dict, indent=4))"
   ]
  },
  {
   "cell_type": "code",
   "execution_count": 28,
   "id": "23f85ddb",
   "metadata": {},
   "outputs": [],
   "source": [
    "with open(f'{OUT_JSON_NAME}_without_read.json', 'w') as file:\n",
    "    json.dump(comparison_results_dict, file, indent=4)"
   ]
  },
  {
   "cell_type": "code",
   "execution_count": null,
   "id": "ed4e2120",
   "metadata": {},
   "outputs": [],
   "source": []
  }
 ],
 "metadata": {
  "kernelspec": {
   "display_name": "3-polar-seminar",
   "language": "python",
   "name": "python3"
  },
  "language_info": {
   "codemirror_mode": {
    "name": "ipython",
    "version": 3
   },
   "file_extension": ".py",
   "mimetype": "text/x-python",
   "name": "python",
   "nbconvert_exporter": "python",
   "pygments_lexer": "ipython3",
   "version": "3.13.2"
  }
 },
 "nbformat": 4,
 "nbformat_minor": 5
}
